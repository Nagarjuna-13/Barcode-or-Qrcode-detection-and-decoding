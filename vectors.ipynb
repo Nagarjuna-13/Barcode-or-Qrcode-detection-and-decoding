{
  "nbformat": 4,
  "nbformat_minor": 0,
  "metadata": {
    "colab": {
      "name": "vectors.ipynb",
      "provenance": [],
      "authorship_tag": "ABX9TyOLNh1R22jB5M7skLc0vwSg",
      "include_colab_link": true
    },
    "kernelspec": {
      "name": "python3",
      "display_name": "Python 3"
    },
    "language_info": {
      "name": "python"
    }
  },
  "cells": [
    {
      "cell_type": "markdown",
      "metadata": {
        "id": "view-in-github",
        "colab_type": "text"
      },
      "source": [
        "<a href=\"https://colab.research.google.com/github/Nagarjuna-13/Barcode-or-Qrcode-detection-and-decoding/blob/main/vectors.ipynb\" target=\"_parent\"><img src=\"https://colab.research.google.com/assets/colab-badge.svg\" alt=\"Open In Colab\"/></a>"
      ]
    },
    {
      "cell_type": "code",
      "execution_count": null,
      "metadata": {
        "id": "vQr9v293LkYz"
      },
      "outputs": [],
      "source": [
        ""
      ]
    }
  ]
}